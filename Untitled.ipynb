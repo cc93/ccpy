{
 "cells": [
  {
   "cell_type": "code",
   "execution_count": 1,
   "metadata": {},
   "outputs": [],
   "source": [
    "import re\n"
   ]
  },
  {
   "cell_type": "code",
   "execution_count": 36,
   "metadata": {},
   "outputs": [
    {
     "name": "stdout",
     "output_type": "stream",
     "text": [
      "\n",
      "方法re.match()：从头开始匹配，只要一开始匹配失败就会返回None\n",
      "98\n",
      "None of string \"08\" matched by pattern \"[1-9]?\\d$\"\n",
      "8\n",
      "None of string \"128\" matched by pattern \"[1-9]?\\d$\"\n",
      "None of string \"100\" matched by pattern \"[1-9]?\\d$\"\n",
      "None of string \"00\" matched by pattern \"[1-9]?\\d$\"\n",
      "0\n",
      "None of string \"1a\" matched by pattern \"[1-9]?\\d$\"\n",
      "None of string \"a1\" matched by pattern \"[1-9]?\\d$\"\n",
      "1b\n",
      "hnlichong@qq.com\n",
      "None of string \"chong@qq.com\" matched by pattern \"[_\\w]{6}@qq.com\"\n",
      "_12\n",
      "None of string \"12a\" matched by pattern \"[_a-zA-Z]+[_\\w]*\"\n",
      "aAttack\n",
      "a_attack\n",
      "a\n",
      "_\n",
      "None of string \"%hnlichong@qq.com\" matched by pattern \"^[_\\w]{6,15}@qq.com$\"\n",
      "None of string \"hnlichong@qq.comqa\" matched by pattern \"^[_\\w]{6,15}@qq.com$\"\n",
      "hnlichong@qq.com\n",
      "None of string \"imooc@qq.com\" matched by pattern \"^\\Aimooc[_\\w]{1,10}@qq.com$\"\n",
      "imooci@qq.com\n",
      "None of string \"iimooc@qq.com\" matched by pattern \"^\\Aimooc[_\\w]{1,10}@qq.com$\"\n",
      "None of string \"ihnlichong@qq.com\" matched by pattern \"^\\Aimooc[_\\w]{1,10}@qq.com$\"\n",
      "hnlichong@qq.com\n",
      "hnlichong@163.com\n",
      "None of string \"hnlichong@110.com\" matched by pattern \"^[_\\w]{6,15}@(qq|163|126).com$\"\n",
      "<book>A New Life</book>\n",
      "None of string \"<book>A New Life</ebook>\" matched by pattern \"<([_\\w]+)>.+</\\1>\"\n",
      "None of string \"<book>A New Life<book>\" matched by pattern \"<([_\\w]+)>.+</\\1>\"\n",
      "<book>A-Man</book>\n",
      "None of string \"<book></book>\" matched by pattern \"<([_\\w]+)>.+</\\1>\"\n",
      "\n",
      "方法re.search(): 查找一次\n",
      "3\n",
      "\n",
      "方法re.findall(): 查找所有\n",
      "['3', '1', '3']\n",
      "\n",
      "方法re.sub(): 替换\n",
      "res = age = 25\n",
      "\n",
      "方法split: 按匹配的字符符号分割\n",
      "res = ['imooc', 'Java', 'C++', 'JavaScript', 'Python']\n"
     ]
    }
   ],
   "source": [
    "# %load re正则表达式.py\n",
    "import re\n",
    "\n",
    "# match\n",
    "print('\\n方法re.match()：从头开始匹配，只要一开始匹配失败就会返回None')\n",
    "def pMatch(pattern, string):\n",
    "    \"\"\"\n",
    "print matched object\n",
    "    :param pattern: [re.pattern]\n",
    "    :param string: [str] string to be matched by re pattern\n",
    "    \"\"\"\n",
    "    ma = pattern.match(string)\n",
    "    if ma:\n",
    "        print(ma.group())\n",
    "    else:\n",
    "        print('None of string \"' + string + '\" matched by pattern \"' + pattern.pattern + '\"')\n",
    "\n",
    "\n",
    "# 匹配0-99\n",
    "# ? 匹配0次或1次\n",
    "pat = re.compile(r'[1-9]?\\d$')\n",
    "pMatch(pat,'98')\n",
    "pMatch(pat,'08')\n",
    "pMatch(pat,'8')\n",
    "pMatch(pat,'128')\n",
    "pMatch(pat,'100')\n",
    "pMatch(pat,'00')\n",
    "pMatch(pat,'0')\n",
    "pMatch(pat,'1a')\n",
    "pMatch(pat,'a1')\n",
    "\n",
    "\n",
    "# 非贪婪模式（尽可能少的匹配） *? or +? or ??\n",
    "print(re.match(r'[0-9][a-z]+?', '1bc').group())\n",
    "\n",
    "# 匹配指定次数 {m} 匹配m次 or {m,n} 匹配m到n次\n",
    "s = 'hnlichong@qq.comqa'\n",
    "print(re.match(r'[_\\w]{6,15}@qq.com', s).group())\n",
    "s = 'chong@qq.com'\n",
    "pMatch(re.compile(r'[_\\w]{6}@qq.com'), s)\n",
    "\n",
    "# 匹配有效变量名\n",
    "list = ['_12', '12a', 'aAttack', 'a_attack', 'a-attack', '_']\n",
    "for i in list:\n",
    "    pMatch(re.compile(r'[_a-zA-Z]+[_\\w]*'), i)\n",
    "    # \\w 匹配单词字符[a-zA-Z0-9]\n",
    "    # + 匹配1次或多次\n",
    "    # * 匹配0次或多次\n",
    "\n",
    "# 边界匹配\n",
    "# ^ $ 匹配开头，结尾\n",
    "list = ['%hnlichong@qq.com', 'hnlichong@qq.comqa', 'hnlichong@qq.com']\n",
    "for i in list:\n",
    "    pMatch(re.compile(r'^[_\\w]{6,15}@qq.com$'), i)\n",
    "# \\A \\Z 匹配指定的开头字符串，结尾字符串\n",
    "pMatch(re.compile(r'^\\Aimooc[_\\w]{1,10}@qq.com$'), 'imooc@qq.com')\n",
    "pMatch(re.compile(r'^\\Aimooc[_\\w]{1,10}@qq.com$'), 'imooci@qq.com')\n",
    "pMatch(re.compile(r'^\\Aimooc[_\\w]{1,10}@qq.com$'), 'iimooc@qq.com')\n",
    "pMatch(re.compile(r'^\\Aimooc[_\\w]{1,10}@qq.com$'), 'ihnlichong@qq.com')\n",
    "\n",
    "# 分组匹配\n",
    "# | 或\n",
    "# () 表示一个分组\n",
    "pMatch(re.compile(r'^[_\\w]{6,15}@(qq|163|126).com$'), 'hnlichong@qq.com')\n",
    "pMatch(re.compile(r'^[_\\w]{6,15}@(qq|163|126).com$'), 'hnlichong@163.com')\n",
    "pMatch(re.compile(r'^[_\\w]{6,15}@(qq|163|126).com$'), 'hnlichong@110.com')\n",
    "# \\1 引用第1个分组匹配到的字符串\n",
    "pat = re.compile(r'<([_\\w]+)>.+</\\1>')\n",
    "# .匹配任意单个字符，包括空格\n",
    "pMatch(pat, '<book>A New Life</book>')\n",
    "pMatch(pat, '<book>A New Life</ebook>')\n",
    "pMatch(pat, '<book>A New Life<book>')\n",
    "pMatch(pat, '<book>A-Man</book>')\n",
    "pMatch(pat, '<book></book>')\n",
    "\n",
    "\n",
    "# search\n",
    "print('\\n方法re.search(): 查找一次')\n",
    "s = 'JavaScript: 3个月，Nodejs和MongoDB：1个月，Java和安卓开发：3个月'\n",
    "pat = re.compile(r'\\d+')\n",
    "mat = pat.search(s)\n",
    "print(mat.group())\n",
    "\n",
    "# findall\n",
    "print('\\n方法re.findall(): 查找所有')\n",
    "s = 'JavaScript: 3个月，Nodejs和MongoDB：1个月，Java和安卓开发：3个月'\n",
    "pat = re.compile(r'\\d+')\n",
    "mat = pat.findall(s)\n",
    "print(mat)\n",
    "\n",
    "# sub\n",
    "def add1(match):\n",
    "    val = int(match.group())\n",
    "    val+=2\n",
    "    return str(val)\n",
    "print('\\n方法re.sub(): 替换')\n",
    "s = 'age = 23'\n",
    "pat = re.compile(r'\\d+')\n",
    "res = pat.sub(add1,s)\n",
    "print('res = '+ res)\n",
    "\n",
    "# split\n",
    "print('\\n方法split: 按匹配的字符符号分割')\n",
    "s = 'imooc: Java C++, JavaScript|Python'\n",
    "# 分割的字符符号有 冒号+空格，冒号，空格，逗号+空格，逗号，分隔号，空格+分隔号+空格 七种\n",
    "pat = re.compile(r': |:| |, |,|\\|| \\| ')\n",
    "res = pat.split(s)\n",
    "print('res = ' + str(res))"
   ]
  },
  {
   "cell_type": "code",
   "execution_count": 39,
   "metadata": {},
   "outputs": [],
   "source": [
    "res = re.search(r'(\\d+)\\.(png|jp(e)?g|gif)', 'main animation 2_00001.jpg')"
   ]
  },
  {
   "cell_type": "code",
   "execution_count": 40,
   "metadata": {},
   "outputs": [
    {
     "data": {
      "text/plain": [
       "<_sre.SRE_Match object; span=(17, 26), match='00001.jpg'>"
      ]
     },
     "execution_count": 40,
     "metadata": {},
     "output_type": "execute_result"
    }
   ],
   "source": [
    "res"
   ]
  },
  {
   "cell_type": "code",
   "execution_count": 41,
   "metadata": {},
   "outputs": [
    {
     "data": {
      "text/plain": [
       "['__class__',\n",
       " '__copy__',\n",
       " '__deepcopy__',\n",
       " '__delattr__',\n",
       " '__dir__',\n",
       " '__doc__',\n",
       " '__eq__',\n",
       " '__format__',\n",
       " '__ge__',\n",
       " '__getattribute__',\n",
       " '__getitem__',\n",
       " '__gt__',\n",
       " '__hash__',\n",
       " '__init__',\n",
       " '__init_subclass__',\n",
       " '__le__',\n",
       " '__lt__',\n",
       " '__ne__',\n",
       " '__new__',\n",
       " '__reduce__',\n",
       " '__reduce_ex__',\n",
       " '__repr__',\n",
       " '__setattr__',\n",
       " '__sizeof__',\n",
       " '__str__',\n",
       " '__subclasshook__',\n",
       " 'end',\n",
       " 'endpos',\n",
       " 'expand',\n",
       " 'group',\n",
       " 'groupdict',\n",
       " 'groups',\n",
       " 'lastgroup',\n",
       " 'lastindex',\n",
       " 'pos',\n",
       " 're',\n",
       " 'regs',\n",
       " 'span',\n",
       " 'start',\n",
       " 'string']"
      ]
     },
     "execution_count": 41,
     "metadata": {},
     "output_type": "execute_result"
    }
   ],
   "source": [
    "dir(res)"
   ]
  },
  {
   "cell_type": "code",
   "execution_count": 42,
   "metadata": {},
   "outputs": [
    {
     "data": {
      "text/plain": [
       "('00001', 'jpg', None)"
      ]
     },
     "execution_count": 42,
     "metadata": {},
     "output_type": "execute_result"
    }
   ],
   "source": [
    "res.groups()"
   ]
  },
  {
   "cell_type": "code",
   "execution_count": 43,
   "metadata": {},
   "outputs": [
    {
     "data": {
      "text/plain": [
       "'00001.jpg'"
      ]
     },
     "execution_count": 43,
     "metadata": {},
     "output_type": "execute_result"
    }
   ],
   "source": [
    "res[0]"
   ]
  },
  {
   "cell_type": "code",
   "execution_count": 44,
   "metadata": {},
   "outputs": [
    {
     "data": {
      "text/plain": [
       "'00001'"
      ]
     },
     "execution_count": 44,
     "metadata": {},
     "output_type": "execute_result"
    }
   ],
   "source": [
    "res[1]"
   ]
  },
  {
   "cell_type": "code",
   "execution_count": null,
   "metadata": {},
   "outputs": [],
   "source": []
  }
 ],
 "metadata": {
  "kernelspec": {
   "display_name": "Python 3",
   "language": "python",
   "name": "python3"
  },
  "language_info": {
   "codemirror_mode": {
    "name": "ipython",
    "version": 3
   },
   "file_extension": ".py",
   "mimetype": "text/x-python",
   "name": "python",
   "nbconvert_exporter": "python",
   "pygments_lexer": "ipython3",
   "version": "3.6.5"
  }
 },
 "nbformat": 4,
 "nbformat_minor": 2
}
